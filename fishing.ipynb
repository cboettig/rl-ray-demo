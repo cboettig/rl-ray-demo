{
 "cells": [
  {
   "cell_type": "code",
   "execution_count": 1,
   "metadata": {},
   "outputs": [],
   "source": [
    "import torch\n",
    "import gym\n",
    "import gym_conservation\n",
    "import gym_fishing\n",
    "from ray import tune\n",
    "from ray.rllib import agents\n",
    "import os\n",
    "\n",
    "os.environ[\"RLLIB_NUM_GPUS\"] = str(torch.cuda.device_count())\n"
   ]
  },
  {
   "cell_type": "code",
   "execution_count": 45,
   "metadata": {},
   "outputs": [],
   "source": [
    "\n",
    "## We can register a gym to use it's version name.  But we can also just use it's fully-qualified name instead...\n",
    "tune.register_env(\"fishing-v1\", lambda config: gym_fishing.envs.FishingCtsEnv())\n"
   ]
  },
  {
   "cell_type": "code",
   "execution_count": 2,
   "metadata": {},
   "outputs": [
    {
     "name": "stderr",
     "output_type": "stream",
     "text": [
      "\u001b[2m\u001b[36m(RolloutWorker pid=199416)\u001b[0m 2022-03-14 21:51:01,148\tWARNING deprecation.py:45 -- DeprecationWarning: `rllib.env.remote_vector_env.RemoteVectorEnv` has been deprecated. Use `ray.rllib.env.remote_base_env.RemoteBaseEnv` instead. This will raise an error in the future!\n",
      "\u001b[2m\u001b[36m(RolloutWorker pid=199417)\u001b[0m 2022-03-14 21:51:01,272\tWARNING deprecation.py:45 -- DeprecationWarning: `rllib.env.remote_vector_env.RemoteVectorEnv` has been deprecated. Use `ray.rllib.env.remote_base_env.RemoteBaseEnv` instead. This will raise an error in the future!\n"
     ]
    }
   ],
   "source": [
    "trainer = agents.ppo.PPOTrainer(env=gym_fishing.envs.BevertonHolt)"
   ]
  },
  {
   "cell_type": "code",
   "execution_count": 3,
   "metadata": {},
   "outputs": [
    {
     "name": "stderr",
     "output_type": "stream",
     "text": [
      "2022-03-14 21:51:37,582\tWARNING trainer.py:973 -- Worker crashed during call to `step_attempt()`. To try to continue training without the failed worker, set `ignore_worker_failures=True`.\n"
     ]
    },
    {
     "ename": "RayTaskError(TypeError)",
     "evalue": "\u001b[36mray::RolloutWorker.par_iter_next()\u001b[39m (pid=199417, ip=172.18.0.8, repr=<ray.rllib.evaluation.rollout_worker.RolloutWorker object at 0x7f078a6c49a0>)\n  File \"/home/cboettig/cboettig/rl-ray-demo/venv/lib/python3.8/site-packages/ray/util/iter.py\", line 1151, in par_iter_next\n    return next(self.local_it)\n  File \"/home/cboettig/cboettig/rl-ray-demo/venv/lib/python3.8/site-packages/ray/rllib/evaluation/rollout_worker.py\", line 382, in gen_rollouts\n    yield self.sample()\n  File \"/home/cboettig/cboettig/rl-ray-demo/venv/lib/python3.8/site-packages/ray/rllib/evaluation/rollout_worker.py\", line 761, in sample\n    batches = [self.input_reader.next()]\n  File \"/home/cboettig/cboettig/rl-ray-demo/venv/lib/python3.8/site-packages/ray/rllib/evaluation/sampler.py\", line 104, in next\n    batches = [self.get_data()]\n  File \"/home/cboettig/cboettig/rl-ray-demo/venv/lib/python3.8/site-packages/ray/rllib/evaluation/sampler.py\", line 266, in get_data\n    item = next(self._env_runner)\n  File \"/home/cboettig/cboettig/rl-ray-demo/venv/lib/python3.8/site-packages/ray/rllib/evaluation/sampler.py\", line 683, in _env_runner\n    base_env.send_actions(actions_to_send)\n  File \"/home/cboettig/cboettig/rl-ray-demo/venv/lib/python3.8/site-packages/ray/rllib/env/vector_env.py\", line 302, in send_actions\n    self.vector_env.vector_step(action_vector)\n  File \"/home/cboettig/cboettig/rl-ray-demo/venv/lib/python3.8/site-packages/ray/rllib/env/vector_env.py\", line 233, in vector_step\n    obs, r, done, info = self.envs[i].step(actions[i])\n  File \"/home/cboettig/cboettig/rl-ray-demo/venv/lib/python3.8/site-packages/gym_fishing/envs/base_fishing_env.py\", line 68, in step\n    self.population_draw()\n  File \"/home/cboettig/cboettig/rl-ray-demo/venv/lib/python3.8/site-packages/gym_fishing/envs/growth_models.py\", line 39, in population_draw\n    self.fish_population = beverton_holt(self.fish_population, self.params)\n  File \"/home/cboettig/cboettig/rl-ray-demo/venv/lib/python3.8/site-packages/gym_fishing/envs/growth_models.py\", line 222, in beverton_holt\n    A = np.clip(params[\"r\"], 0.0, np.inf) + 1\n  File \"<__array_function__ internals>\", line 180, in clip\n  File \"/home/cboettig/cboettig/rl-ray-demo/venv/lib/python3.8/site-packages/numpy/core/fromnumeric.py\", line 2152, in clip\n    return _wrapfunc(a, 'clip', a_min, a_max, out=out, **kwargs)\n  File \"/home/cboettig/cboettig/rl-ray-demo/venv/lib/python3.8/site-packages/numpy/core/fromnumeric.py\", line 54, in _wrapfunc\n    return _wrapit(obj, method, *args, **kwds)\n  File \"/home/cboettig/cboettig/rl-ray-demo/venv/lib/python3.8/site-packages/numpy/core/fromnumeric.py\", line 43, in _wrapit\n    result = getattr(asarray(obj), method)(*args, **kwds)\n  File \"/home/cboettig/cboettig/rl-ray-demo/venv/lib/python3.8/site-packages/numpy/core/_methods.py\", line 159, in _clip\n    return _clip_dep_invoke_with_casting(\n  File \"/home/cboettig/cboettig/rl-ray-demo/venv/lib/python3.8/site-packages/numpy/core/_methods.py\", line 113, in _clip_dep_invoke_with_casting\n    return ufunc(*args, out=out, **kwargs)\nTypeError: '>=' not supported between instances of 'EnvContext' and 'float'",
     "output_type": "error",
     "traceback": [
      "\u001b[0;31m---------------------------------------------------------------------------\u001b[0m",
      "\u001b[0;31mRayTaskError(TypeError)\u001b[0m                   Traceback (most recent call last)",
      "\u001b[1;32m/home/cboettig/cboettig/rl-ray-demo/fishing.ipynb Cell 4'\u001b[0m in \u001b[0;36m<module>\u001b[0;34m\u001b[0m\n\u001b[1;32m      <a href='vscode-notebook-cell://ssh-remote%2Brstudio.thelio/home/cboettig/cboettig/rl-ray-demo/fishing.ipynb#ch0000010vscode-remote?line=0'>1</a>\u001b[0m \u001b[39mfor\u001b[39;00m _ \u001b[39min\u001b[39;00m \u001b[39mrange\u001b[39m(\u001b[39m4\u001b[39m):\n\u001b[0;32m----> <a href='vscode-notebook-cell://ssh-remote%2Brstudio.thelio/home/cboettig/cboettig/rl-ray-demo/fishing.ipynb#ch0000010vscode-remote?line=1'>2</a>\u001b[0m     trainer\u001b[39m.\u001b[39;49mtrain()\n",
      "File \u001b[0;32m~/cboettig/rl-ray-demo/venv/lib/python3.8/site-packages/ray/tune/trainable.py:315\u001b[0m, in \u001b[0;36mTrainable.train\u001b[0;34m(self)\u001b[0m\n\u001b[1;32m    <a href='file:///home/cboettig/cboettig/rl-ray-demo/venv/lib/python3.8/site-packages/ray/tune/trainable.py?line=274'>275</a>\u001b[0m \u001b[39m\"\"\"Runs one logical iteration of training.\u001b[39;00m\n\u001b[1;32m    <a href='file:///home/cboettig/cboettig/rl-ray-demo/venv/lib/python3.8/site-packages/ray/tune/trainable.py?line=275'>276</a>\u001b[0m \n\u001b[1;32m    <a href='file:///home/cboettig/cboettig/rl-ray-demo/venv/lib/python3.8/site-packages/ray/tune/trainable.py?line=276'>277</a>\u001b[0m \u001b[39mCalls ``step()`` internally. Subclasses should override ``step()``\u001b[39;00m\n\u001b[0;32m   (...)\u001b[0m\n\u001b[1;32m    <a href='file:///home/cboettig/cboettig/rl-ray-demo/venv/lib/python3.8/site-packages/ray/tune/trainable.py?line=311'>312</a>\u001b[0m \u001b[39m    A dict that describes training progress.\u001b[39;00m\n\u001b[1;32m    <a href='file:///home/cboettig/cboettig/rl-ray-demo/venv/lib/python3.8/site-packages/ray/tune/trainable.py?line=312'>313</a>\u001b[0m \u001b[39m\"\"\"\u001b[39;00m\n\u001b[1;32m    <a href='file:///home/cboettig/cboettig/rl-ray-demo/venv/lib/python3.8/site-packages/ray/tune/trainable.py?line=313'>314</a>\u001b[0m start \u001b[39m=\u001b[39m time\u001b[39m.\u001b[39mtime()\n\u001b[0;32m--> <a href='file:///home/cboettig/cboettig/rl-ray-demo/venv/lib/python3.8/site-packages/ray/tune/trainable.py?line=314'>315</a>\u001b[0m result \u001b[39m=\u001b[39m \u001b[39mself\u001b[39;49m\u001b[39m.\u001b[39;49mstep()\n\u001b[1;32m    <a href='file:///home/cboettig/cboettig/rl-ray-demo/venv/lib/python3.8/site-packages/ray/tune/trainable.py?line=315'>316</a>\u001b[0m \u001b[39massert\u001b[39;00m \u001b[39misinstance\u001b[39m(result, \u001b[39mdict\u001b[39m), \u001b[39m\"\u001b[39m\u001b[39mstep() needs to return a dict.\u001b[39m\u001b[39m\"\u001b[39m\n\u001b[1;32m    <a href='file:///home/cboettig/cboettig/rl-ray-demo/venv/lib/python3.8/site-packages/ray/tune/trainable.py?line=317'>318</a>\u001b[0m \u001b[39m# We do not modify internal state nor update this result if duplicate.\u001b[39;00m\n",
      "File \u001b[0;32m~/cboettig/rl-ray-demo/venv/lib/python3.8/site-packages/ray/rllib/agents/trainer.py:977\u001b[0m, in \u001b[0;36mTrainer.step\u001b[0;34m(self)\u001b[0m\n\u001b[1;32m    <a href='file:///home/cboettig/cboettig/rl-ray-demo/venv/lib/python3.8/site-packages/ray/rllib/agents/trainer.py?line=970'>971</a>\u001b[0m     \u001b[39m# Error out.\u001b[39;00m\n\u001b[1;32m    <a href='file:///home/cboettig/cboettig/rl-ray-demo/venv/lib/python3.8/site-packages/ray/rllib/agents/trainer.py?line=971'>972</a>\u001b[0m     \u001b[39melse\u001b[39;00m:\n\u001b[1;32m    <a href='file:///home/cboettig/cboettig/rl-ray-demo/venv/lib/python3.8/site-packages/ray/rllib/agents/trainer.py?line=972'>973</a>\u001b[0m         logger\u001b[39m.\u001b[39mwarning(\n\u001b[1;32m    <a href='file:///home/cboettig/cboettig/rl-ray-demo/venv/lib/python3.8/site-packages/ray/rllib/agents/trainer.py?line=973'>974</a>\u001b[0m             \u001b[39m\"\u001b[39m\u001b[39mWorker crashed during call to `step_attempt()`. \u001b[39m\u001b[39m\"\u001b[39m\n\u001b[1;32m    <a href='file:///home/cboettig/cboettig/rl-ray-demo/venv/lib/python3.8/site-packages/ray/rllib/agents/trainer.py?line=974'>975</a>\u001b[0m             \u001b[39m\"\u001b[39m\u001b[39mTo try to continue training without the failed \u001b[39m\u001b[39m\"\u001b[39m\n\u001b[1;32m    <a href='file:///home/cboettig/cboettig/rl-ray-demo/venv/lib/python3.8/site-packages/ray/rllib/agents/trainer.py?line=975'>976</a>\u001b[0m             \u001b[39m\"\u001b[39m\u001b[39mworker, set `ignore_worker_failures=True`.\u001b[39m\u001b[39m\"\u001b[39m)\n\u001b[0;32m--> <a href='file:///home/cboettig/cboettig/rl-ray-demo/venv/lib/python3.8/site-packages/ray/rllib/agents/trainer.py?line=976'>977</a>\u001b[0m         \u001b[39mraise\u001b[39;00m e\n\u001b[1;32m    <a href='file:///home/cboettig/cboettig/rl-ray-demo/venv/lib/python3.8/site-packages/ray/rllib/agents/trainer.py?line=977'>978</a>\u001b[0m \u001b[39m# Any other exception.\u001b[39;00m\n\u001b[1;32m    <a href='file:///home/cboettig/cboettig/rl-ray-demo/venv/lib/python3.8/site-packages/ray/rllib/agents/trainer.py?line=978'>979</a>\u001b[0m \u001b[39mexcept\u001b[39;00m \u001b[39mException\u001b[39;00m \u001b[39mas\u001b[39;00m e:\n\u001b[1;32m    <a href='file:///home/cboettig/cboettig/rl-ray-demo/venv/lib/python3.8/site-packages/ray/rllib/agents/trainer.py?line=979'>980</a>\u001b[0m     \u001b[39m# Allow logs messages to propagate.\u001b[39;00m\n",
      "File \u001b[0;32m~/cboettig/rl-ray-demo/venv/lib/python3.8/site-packages/ray/rllib/agents/trainer.py:963\u001b[0m, in \u001b[0;36mTrainer.step\u001b[0;34m(self)\u001b[0m\n\u001b[1;32m    <a href='file:///home/cboettig/cboettig/rl-ray-demo/venv/lib/python3.8/site-packages/ray/rllib/agents/trainer.py?line=959'>960</a>\u001b[0m \u001b[39mwhile\u001b[39;00m \u001b[39mnot\u001b[39;00m step_ctx\u001b[39m.\u001b[39mshould_stop(step_attempt_results):\n\u001b[1;32m    <a href='file:///home/cboettig/cboettig/rl-ray-demo/venv/lib/python3.8/site-packages/ray/rllib/agents/trainer.py?line=960'>961</a>\u001b[0m     \u001b[39m# Try to train one step.\u001b[39;00m\n\u001b[1;32m    <a href='file:///home/cboettig/cboettig/rl-ray-demo/venv/lib/python3.8/site-packages/ray/rllib/agents/trainer.py?line=961'>962</a>\u001b[0m     \u001b[39mtry\u001b[39;00m:\n\u001b[0;32m--> <a href='file:///home/cboettig/cboettig/rl-ray-demo/venv/lib/python3.8/site-packages/ray/rllib/agents/trainer.py?line=962'>963</a>\u001b[0m         step_attempt_results \u001b[39m=\u001b[39m \u001b[39mself\u001b[39;49m\u001b[39m.\u001b[39;49mstep_attempt()\n\u001b[1;32m    <a href='file:///home/cboettig/cboettig/rl-ray-demo/venv/lib/python3.8/site-packages/ray/rllib/agents/trainer.py?line=963'>964</a>\u001b[0m     \u001b[39m# @ray.remote RolloutWorker failure.\u001b[39;00m\n\u001b[1;32m    <a href='file:///home/cboettig/cboettig/rl-ray-demo/venv/lib/python3.8/site-packages/ray/rllib/agents/trainer.py?line=964'>965</a>\u001b[0m     \u001b[39mexcept\u001b[39;00m RayError \u001b[39mas\u001b[39;00m e:\n\u001b[1;32m    <a href='file:///home/cboettig/cboettig/rl-ray-demo/venv/lib/python3.8/site-packages/ray/rllib/agents/trainer.py?line=965'>966</a>\u001b[0m         \u001b[39m# Try to recover w/o the failed worker.\u001b[39;00m\n",
      "File \u001b[0;32m~/cboettig/rl-ray-demo/venv/lib/python3.8/site-packages/ray/rllib/agents/trainer.py:1042\u001b[0m, in \u001b[0;36mTrainer.step_attempt\u001b[0;34m(self)\u001b[0m\n\u001b[1;32m   <a href='file:///home/cboettig/cboettig/rl-ray-demo/venv/lib/python3.8/site-packages/ray/rllib/agents/trainer.py?line=1039'>1040</a>\u001b[0m \u001b[39m# No evaluation necessary, just run the next training iteration.\u001b[39;00m\n\u001b[1;32m   <a href='file:///home/cboettig/cboettig/rl-ray-demo/venv/lib/python3.8/site-packages/ray/rllib/agents/trainer.py?line=1040'>1041</a>\u001b[0m \u001b[39mif\u001b[39;00m \u001b[39mnot\u001b[39;00m evaluate_this_iter:\n\u001b[0;32m-> <a href='file:///home/cboettig/cboettig/rl-ray-demo/venv/lib/python3.8/site-packages/ray/rllib/agents/trainer.py?line=1041'>1042</a>\u001b[0m     step_results \u001b[39m=\u001b[39m \u001b[39mself\u001b[39;49m\u001b[39m.\u001b[39;49m_exec_plan_or_training_iteration_fn()\n\u001b[1;32m   <a href='file:///home/cboettig/cboettig/rl-ray-demo/venv/lib/python3.8/site-packages/ray/rllib/agents/trainer.py?line=1042'>1043</a>\u001b[0m \u001b[39m# We have to evaluate in this training iteration.\u001b[39;00m\n\u001b[1;32m   <a href='file:///home/cboettig/cboettig/rl-ray-demo/venv/lib/python3.8/site-packages/ray/rllib/agents/trainer.py?line=1043'>1044</a>\u001b[0m \u001b[39melse\u001b[39;00m:\n\u001b[1;32m   <a href='file:///home/cboettig/cboettig/rl-ray-demo/venv/lib/python3.8/site-packages/ray/rllib/agents/trainer.py?line=1044'>1045</a>\u001b[0m     \u001b[39m# No parallelism.\u001b[39;00m\n\u001b[1;32m   <a href='file:///home/cboettig/cboettig/rl-ray-demo/venv/lib/python3.8/site-packages/ray/rllib/agents/trainer.py?line=1045'>1046</a>\u001b[0m     \u001b[39mif\u001b[39;00m \u001b[39mnot\u001b[39;00m \u001b[39mself\u001b[39m\u001b[39m.\u001b[39mconfig[\u001b[39m\"\u001b[39m\u001b[39mevaluation_parallel_to_training\u001b[39m\u001b[39m\"\u001b[39m]:\n",
      "File \u001b[0;32m~/cboettig/rl-ray-demo/venv/lib/python3.8/site-packages/ray/rllib/agents/trainer.py:1962\u001b[0m, in \u001b[0;36mTrainer._exec_plan_or_training_iteration_fn\u001b[0;34m(self)\u001b[0m\n\u001b[1;32m   <a href='file:///home/cboettig/cboettig/rl-ray-demo/venv/lib/python3.8/site-packages/ray/rllib/agents/trainer.py?line=1959'>1960</a>\u001b[0m     results \u001b[39m=\u001b[39m \u001b[39mself\u001b[39m\u001b[39m.\u001b[39mtraining_iteration()\n\u001b[1;32m   <a href='file:///home/cboettig/cboettig/rl-ray-demo/venv/lib/python3.8/site-packages/ray/rllib/agents/trainer.py?line=1960'>1961</a>\u001b[0m \u001b[39melse\u001b[39;00m:\n\u001b[0;32m-> <a href='file:///home/cboettig/cboettig/rl-ray-demo/venv/lib/python3.8/site-packages/ray/rllib/agents/trainer.py?line=1961'>1962</a>\u001b[0m     results \u001b[39m=\u001b[39m \u001b[39mnext\u001b[39;49m(\u001b[39mself\u001b[39;49m\u001b[39m.\u001b[39;49mtrain_exec_impl)\n\u001b[1;32m   <a href='file:///home/cboettig/cboettig/rl-ray-demo/venv/lib/python3.8/site-packages/ray/rllib/agents/trainer.py?line=1962'>1963</a>\u001b[0m \u001b[39mreturn\u001b[39;00m results\n",
      "File \u001b[0;32m~/cboettig/rl-ray-demo/venv/lib/python3.8/site-packages/ray/util/iter.py:756\u001b[0m, in \u001b[0;36mLocalIterator.__next__\u001b[0;34m(self)\u001b[0m\n\u001b[1;32m    <a href='file:///home/cboettig/cboettig/rl-ray-demo/venv/lib/python3.8/site-packages/ray/util/iter.py?line=753'>754</a>\u001b[0m \u001b[39mdef\u001b[39;00m \u001b[39m__next__\u001b[39m(\u001b[39mself\u001b[39m):\n\u001b[1;32m    <a href='file:///home/cboettig/cboettig/rl-ray-demo/venv/lib/python3.8/site-packages/ray/util/iter.py?line=754'>755</a>\u001b[0m     \u001b[39mself\u001b[39m\u001b[39m.\u001b[39m_build_once()\n\u001b[0;32m--> <a href='file:///home/cboettig/cboettig/rl-ray-demo/venv/lib/python3.8/site-packages/ray/util/iter.py?line=755'>756</a>\u001b[0m     \u001b[39mreturn\u001b[39;00m \u001b[39mnext\u001b[39;49m(\u001b[39mself\u001b[39;49m\u001b[39m.\u001b[39;49mbuilt_iterator)\n",
      "File \u001b[0;32m~/cboettig/rl-ray-demo/venv/lib/python3.8/site-packages/ray/util/iter.py:783\u001b[0m, in \u001b[0;36mLocalIterator.for_each.<locals>.apply_foreach\u001b[0;34m(it)\u001b[0m\n\u001b[1;32m    <a href='file:///home/cboettig/cboettig/rl-ray-demo/venv/lib/python3.8/site-packages/ray/util/iter.py?line=781'>782</a>\u001b[0m \u001b[39mdef\u001b[39;00m \u001b[39mapply_foreach\u001b[39m(it):\n\u001b[0;32m--> <a href='file:///home/cboettig/cboettig/rl-ray-demo/venv/lib/python3.8/site-packages/ray/util/iter.py?line=782'>783</a>\u001b[0m     \u001b[39mfor\u001b[39;00m item \u001b[39min\u001b[39;00m it:\n\u001b[1;32m    <a href='file:///home/cboettig/cboettig/rl-ray-demo/venv/lib/python3.8/site-packages/ray/util/iter.py?line=783'>784</a>\u001b[0m         \u001b[39mif\u001b[39;00m \u001b[39misinstance\u001b[39m(item, _NextValueNotReady):\n\u001b[1;32m    <a href='file:///home/cboettig/cboettig/rl-ray-demo/venv/lib/python3.8/site-packages/ray/util/iter.py?line=784'>785</a>\u001b[0m             \u001b[39myield\u001b[39;00m item\n",
      "File \u001b[0;32m~/cboettig/rl-ray-demo/venv/lib/python3.8/site-packages/ray/util/iter.py:783\u001b[0m, in \u001b[0;36mLocalIterator.for_each.<locals>.apply_foreach\u001b[0;34m(it)\u001b[0m\n\u001b[1;32m    <a href='file:///home/cboettig/cboettig/rl-ray-demo/venv/lib/python3.8/site-packages/ray/util/iter.py?line=781'>782</a>\u001b[0m \u001b[39mdef\u001b[39;00m \u001b[39mapply_foreach\u001b[39m(it):\n\u001b[0;32m--> <a href='file:///home/cboettig/cboettig/rl-ray-demo/venv/lib/python3.8/site-packages/ray/util/iter.py?line=782'>783</a>\u001b[0m     \u001b[39mfor\u001b[39;00m item \u001b[39min\u001b[39;00m it:\n\u001b[1;32m    <a href='file:///home/cboettig/cboettig/rl-ray-demo/venv/lib/python3.8/site-packages/ray/util/iter.py?line=783'>784</a>\u001b[0m         \u001b[39mif\u001b[39;00m \u001b[39misinstance\u001b[39m(item, _NextValueNotReady):\n\u001b[1;32m    <a href='file:///home/cboettig/cboettig/rl-ray-demo/venv/lib/python3.8/site-packages/ray/util/iter.py?line=784'>785</a>\u001b[0m             \u001b[39myield\u001b[39;00m item\n",
      "File \u001b[0;32m~/cboettig/rl-ray-demo/venv/lib/python3.8/site-packages/ray/util/iter.py:843\u001b[0m, in \u001b[0;36mLocalIterator.filter.<locals>.apply_filter\u001b[0;34m(it)\u001b[0m\n\u001b[1;32m    <a href='file:///home/cboettig/cboettig/rl-ray-demo/venv/lib/python3.8/site-packages/ray/util/iter.py?line=841'>842</a>\u001b[0m \u001b[39mdef\u001b[39;00m \u001b[39mapply_filter\u001b[39m(it):\n\u001b[0;32m--> <a href='file:///home/cboettig/cboettig/rl-ray-demo/venv/lib/python3.8/site-packages/ray/util/iter.py?line=842'>843</a>\u001b[0m     \u001b[39mfor\u001b[39;00m item \u001b[39min\u001b[39;00m it:\n\u001b[1;32m    <a href='file:///home/cboettig/cboettig/rl-ray-demo/venv/lib/python3.8/site-packages/ray/util/iter.py?line=843'>844</a>\u001b[0m         \u001b[39mwith\u001b[39;00m \u001b[39mself\u001b[39m\u001b[39m.\u001b[39m_metrics_context():\n\u001b[1;32m    <a href='file:///home/cboettig/cboettig/rl-ray-demo/venv/lib/python3.8/site-packages/ray/util/iter.py?line=844'>845</a>\u001b[0m             \u001b[39mif\u001b[39;00m \u001b[39misinstance\u001b[39m(item, _NextValueNotReady) \u001b[39mor\u001b[39;00m fn(item):\n",
      "File \u001b[0;32m~/cboettig/rl-ray-demo/venv/lib/python3.8/site-packages/ray/util/iter.py:843\u001b[0m, in \u001b[0;36mLocalIterator.filter.<locals>.apply_filter\u001b[0;34m(it)\u001b[0m\n\u001b[1;32m    <a href='file:///home/cboettig/cboettig/rl-ray-demo/venv/lib/python3.8/site-packages/ray/util/iter.py?line=841'>842</a>\u001b[0m \u001b[39mdef\u001b[39;00m \u001b[39mapply_filter\u001b[39m(it):\n\u001b[0;32m--> <a href='file:///home/cboettig/cboettig/rl-ray-demo/venv/lib/python3.8/site-packages/ray/util/iter.py?line=842'>843</a>\u001b[0m     \u001b[39mfor\u001b[39;00m item \u001b[39min\u001b[39;00m it:\n\u001b[1;32m    <a href='file:///home/cboettig/cboettig/rl-ray-demo/venv/lib/python3.8/site-packages/ray/util/iter.py?line=843'>844</a>\u001b[0m         \u001b[39mwith\u001b[39;00m \u001b[39mself\u001b[39m\u001b[39m.\u001b[39m_metrics_context():\n\u001b[1;32m    <a href='file:///home/cboettig/cboettig/rl-ray-demo/venv/lib/python3.8/site-packages/ray/util/iter.py?line=844'>845</a>\u001b[0m             \u001b[39mif\u001b[39;00m \u001b[39misinstance\u001b[39m(item, _NextValueNotReady) \u001b[39mor\u001b[39;00m fn(item):\n",
      "File \u001b[0;32m~/cboettig/rl-ray-demo/venv/lib/python3.8/site-packages/ray/util/iter.py:783\u001b[0m, in \u001b[0;36mLocalIterator.for_each.<locals>.apply_foreach\u001b[0;34m(it)\u001b[0m\n\u001b[1;32m    <a href='file:///home/cboettig/cboettig/rl-ray-demo/venv/lib/python3.8/site-packages/ray/util/iter.py?line=781'>782</a>\u001b[0m \u001b[39mdef\u001b[39;00m \u001b[39mapply_foreach\u001b[39m(it):\n\u001b[0;32m--> <a href='file:///home/cboettig/cboettig/rl-ray-demo/venv/lib/python3.8/site-packages/ray/util/iter.py?line=782'>783</a>\u001b[0m     \u001b[39mfor\u001b[39;00m item \u001b[39min\u001b[39;00m it:\n\u001b[1;32m    <a href='file:///home/cboettig/cboettig/rl-ray-demo/venv/lib/python3.8/site-packages/ray/util/iter.py?line=783'>784</a>\u001b[0m         \u001b[39mif\u001b[39;00m \u001b[39misinstance\u001b[39m(item, _NextValueNotReady):\n\u001b[1;32m    <a href='file:///home/cboettig/cboettig/rl-ray-demo/venv/lib/python3.8/site-packages/ray/util/iter.py?line=784'>785</a>\u001b[0m             \u001b[39myield\u001b[39;00m item\n",
      "File \u001b[0;32m~/cboettig/rl-ray-demo/venv/lib/python3.8/site-packages/ray/util/iter.py:783\u001b[0m, in \u001b[0;36mLocalIterator.for_each.<locals>.apply_foreach\u001b[0;34m(it)\u001b[0m\n\u001b[1;32m    <a href='file:///home/cboettig/cboettig/rl-ray-demo/venv/lib/python3.8/site-packages/ray/util/iter.py?line=781'>782</a>\u001b[0m \u001b[39mdef\u001b[39;00m \u001b[39mapply_foreach\u001b[39m(it):\n\u001b[0;32m--> <a href='file:///home/cboettig/cboettig/rl-ray-demo/venv/lib/python3.8/site-packages/ray/util/iter.py?line=782'>783</a>\u001b[0m     \u001b[39mfor\u001b[39;00m item \u001b[39min\u001b[39;00m it:\n\u001b[1;32m    <a href='file:///home/cboettig/cboettig/rl-ray-demo/venv/lib/python3.8/site-packages/ray/util/iter.py?line=783'>784</a>\u001b[0m         \u001b[39mif\u001b[39;00m \u001b[39misinstance\u001b[39m(item, _NextValueNotReady):\n\u001b[1;32m    <a href='file:///home/cboettig/cboettig/rl-ray-demo/venv/lib/python3.8/site-packages/ray/util/iter.py?line=784'>785</a>\u001b[0m             \u001b[39myield\u001b[39;00m item\n",
      "    \u001b[0;31m[... skipping similar frames: LocalIterator.for_each.<locals>.apply_foreach at line 783 (1 times)]\u001b[0m\n",
      "File \u001b[0;32m~/cboettig/rl-ray-demo/venv/lib/python3.8/site-packages/ray/util/iter.py:783\u001b[0m, in \u001b[0;36mLocalIterator.for_each.<locals>.apply_foreach\u001b[0;34m(it)\u001b[0m\n\u001b[1;32m    <a href='file:///home/cboettig/cboettig/rl-ray-demo/venv/lib/python3.8/site-packages/ray/util/iter.py?line=781'>782</a>\u001b[0m \u001b[39mdef\u001b[39;00m \u001b[39mapply_foreach\u001b[39m(it):\n\u001b[0;32m--> <a href='file:///home/cboettig/cboettig/rl-ray-demo/venv/lib/python3.8/site-packages/ray/util/iter.py?line=782'>783</a>\u001b[0m     \u001b[39mfor\u001b[39;00m item \u001b[39min\u001b[39;00m it:\n\u001b[1;32m    <a href='file:///home/cboettig/cboettig/rl-ray-demo/venv/lib/python3.8/site-packages/ray/util/iter.py?line=783'>784</a>\u001b[0m         \u001b[39mif\u001b[39;00m \u001b[39misinstance\u001b[39m(item, _NextValueNotReady):\n\u001b[1;32m    <a href='file:///home/cboettig/cboettig/rl-ray-demo/venv/lib/python3.8/site-packages/ray/util/iter.py?line=784'>785</a>\u001b[0m             \u001b[39myield\u001b[39;00m item\n",
      "File \u001b[0;32m~/cboettig/rl-ray-demo/venv/lib/python3.8/site-packages/ray/util/iter.py:876\u001b[0m, in \u001b[0;36mLocalIterator.flatten.<locals>.apply_flatten\u001b[0;34m(it)\u001b[0m\n\u001b[1;32m    <a href='file:///home/cboettig/cboettig/rl-ray-demo/venv/lib/python3.8/site-packages/ray/util/iter.py?line=874'>875</a>\u001b[0m \u001b[39mdef\u001b[39;00m \u001b[39mapply_flatten\u001b[39m(it):\n\u001b[0;32m--> <a href='file:///home/cboettig/cboettig/rl-ray-demo/venv/lib/python3.8/site-packages/ray/util/iter.py?line=875'>876</a>\u001b[0m     \u001b[39mfor\u001b[39;00m item \u001b[39min\u001b[39;00m it:\n\u001b[1;32m    <a href='file:///home/cboettig/cboettig/rl-ray-demo/venv/lib/python3.8/site-packages/ray/util/iter.py?line=876'>877</a>\u001b[0m         \u001b[39mif\u001b[39;00m \u001b[39misinstance\u001b[39m(item, _NextValueNotReady):\n\u001b[1;32m    <a href='file:///home/cboettig/cboettig/rl-ray-demo/venv/lib/python3.8/site-packages/ray/util/iter.py?line=877'>878</a>\u001b[0m             \u001b[39myield\u001b[39;00m item\n",
      "File \u001b[0;32m~/cboettig/rl-ray-demo/venv/lib/python3.8/site-packages/ray/util/iter.py:783\u001b[0m, in \u001b[0;36mLocalIterator.for_each.<locals>.apply_foreach\u001b[0;34m(it)\u001b[0m\n\u001b[1;32m    <a href='file:///home/cboettig/cboettig/rl-ray-demo/venv/lib/python3.8/site-packages/ray/util/iter.py?line=781'>782</a>\u001b[0m \u001b[39mdef\u001b[39;00m \u001b[39mapply_foreach\u001b[39m(it):\n\u001b[0;32m--> <a href='file:///home/cboettig/cboettig/rl-ray-demo/venv/lib/python3.8/site-packages/ray/util/iter.py?line=782'>783</a>\u001b[0m     \u001b[39mfor\u001b[39;00m item \u001b[39min\u001b[39;00m it:\n\u001b[1;32m    <a href='file:///home/cboettig/cboettig/rl-ray-demo/venv/lib/python3.8/site-packages/ray/util/iter.py?line=783'>784</a>\u001b[0m         \u001b[39mif\u001b[39;00m \u001b[39misinstance\u001b[39m(item, _NextValueNotReady):\n\u001b[1;32m    <a href='file:///home/cboettig/cboettig/rl-ray-demo/venv/lib/python3.8/site-packages/ray/util/iter.py?line=784'>785</a>\u001b[0m             \u001b[39myield\u001b[39;00m item\n",
      "File \u001b[0;32m~/cboettig/rl-ray-demo/venv/lib/python3.8/site-packages/ray/util/iter.py:783\u001b[0m, in \u001b[0;36mLocalIterator.for_each.<locals>.apply_foreach\u001b[0;34m(it)\u001b[0m\n\u001b[1;32m    <a href='file:///home/cboettig/cboettig/rl-ray-demo/venv/lib/python3.8/site-packages/ray/util/iter.py?line=781'>782</a>\u001b[0m \u001b[39mdef\u001b[39;00m \u001b[39mapply_foreach\u001b[39m(it):\n\u001b[0;32m--> <a href='file:///home/cboettig/cboettig/rl-ray-demo/venv/lib/python3.8/site-packages/ray/util/iter.py?line=782'>783</a>\u001b[0m     \u001b[39mfor\u001b[39;00m item \u001b[39min\u001b[39;00m it:\n\u001b[1;32m    <a href='file:///home/cboettig/cboettig/rl-ray-demo/venv/lib/python3.8/site-packages/ray/util/iter.py?line=783'>784</a>\u001b[0m         \u001b[39mif\u001b[39;00m \u001b[39misinstance\u001b[39m(item, _NextValueNotReady):\n\u001b[1;32m    <a href='file:///home/cboettig/cboettig/rl-ray-demo/venv/lib/python3.8/site-packages/ray/util/iter.py?line=784'>785</a>\u001b[0m             \u001b[39myield\u001b[39;00m item\n",
      "    \u001b[0;31m[... skipping similar frames: LocalIterator.for_each.<locals>.apply_foreach at line 783 (1 times)]\u001b[0m\n",
      "File \u001b[0;32m~/cboettig/rl-ray-demo/venv/lib/python3.8/site-packages/ray/util/iter.py:783\u001b[0m, in \u001b[0;36mLocalIterator.for_each.<locals>.apply_foreach\u001b[0;34m(it)\u001b[0m\n\u001b[1;32m    <a href='file:///home/cboettig/cboettig/rl-ray-demo/venv/lib/python3.8/site-packages/ray/util/iter.py?line=781'>782</a>\u001b[0m \u001b[39mdef\u001b[39;00m \u001b[39mapply_foreach\u001b[39m(it):\n\u001b[0;32m--> <a href='file:///home/cboettig/cboettig/rl-ray-demo/venv/lib/python3.8/site-packages/ray/util/iter.py?line=782'>783</a>\u001b[0m     \u001b[39mfor\u001b[39;00m item \u001b[39min\u001b[39;00m it:\n\u001b[1;32m    <a href='file:///home/cboettig/cboettig/rl-ray-demo/venv/lib/python3.8/site-packages/ray/util/iter.py?line=783'>784</a>\u001b[0m         \u001b[39mif\u001b[39;00m \u001b[39misinstance\u001b[39m(item, _NextValueNotReady):\n\u001b[1;32m    <a href='file:///home/cboettig/cboettig/rl-ray-demo/venv/lib/python3.8/site-packages/ray/util/iter.py?line=784'>785</a>\u001b[0m             \u001b[39myield\u001b[39;00m item\n",
      "File \u001b[0;32m~/cboettig/rl-ray-demo/venv/lib/python3.8/site-packages/ray/util/iter.py:471\u001b[0m, in \u001b[0;36mParallelIterator.batch_across_shards.<locals>.base_iterator\u001b[0;34m(timeout)\u001b[0m\n\u001b[1;32m    <a href='file:///home/cboettig/cboettig/rl-ray-demo/venv/lib/python3.8/site-packages/ray/util/iter.py?line=468'>469</a>\u001b[0m \u001b[39mwhile\u001b[39;00m active:\n\u001b[1;32m    <a href='file:///home/cboettig/cboettig/rl-ray-demo/venv/lib/python3.8/site-packages/ray/util/iter.py?line=469'>470</a>\u001b[0m     \u001b[39mtry\u001b[39;00m:\n\u001b[0;32m--> <a href='file:///home/cboettig/cboettig/rl-ray-demo/venv/lib/python3.8/site-packages/ray/util/iter.py?line=470'>471</a>\u001b[0m         \u001b[39myield\u001b[39;00m ray\u001b[39m.\u001b[39;49mget(futures, timeout\u001b[39m=\u001b[39;49mtimeout)\n\u001b[1;32m    <a href='file:///home/cboettig/cboettig/rl-ray-demo/venv/lib/python3.8/site-packages/ray/util/iter.py?line=471'>472</a>\u001b[0m         futures \u001b[39m=\u001b[39m [a\u001b[39m.\u001b[39mpar_iter_next\u001b[39m.\u001b[39mremote() \u001b[39mfor\u001b[39;00m a \u001b[39min\u001b[39;00m active]\n\u001b[1;32m    <a href='file:///home/cboettig/cboettig/rl-ray-demo/venv/lib/python3.8/site-packages/ray/util/iter.py?line=472'>473</a>\u001b[0m         \u001b[39m# Always yield after each round of gets with timeout.\u001b[39;00m\n",
      "File \u001b[0;32m~/cboettig/rl-ray-demo/venv/lib/python3.8/site-packages/ray/_private/client_mode_hook.py:105\u001b[0m, in \u001b[0;36mclient_mode_hook.<locals>.wrapper\u001b[0;34m(*args, **kwargs)\u001b[0m\n\u001b[1;32m    <a href='file:///home/cboettig/cboettig/rl-ray-demo/venv/lib/python3.8/site-packages/ray/_private/client_mode_hook.py?line=102'>103</a>\u001b[0m     \u001b[39mif\u001b[39;00m func\u001b[39m.\u001b[39m\u001b[39m__name__\u001b[39m \u001b[39m!=\u001b[39m \u001b[39m\"\u001b[39m\u001b[39minit\u001b[39m\u001b[39m\"\u001b[39m \u001b[39mor\u001b[39;00m is_client_mode_enabled_by_default:\n\u001b[1;32m    <a href='file:///home/cboettig/cboettig/rl-ray-demo/venv/lib/python3.8/site-packages/ray/_private/client_mode_hook.py?line=103'>104</a>\u001b[0m         \u001b[39mreturn\u001b[39;00m \u001b[39mgetattr\u001b[39m(ray, func\u001b[39m.\u001b[39m\u001b[39m__name__\u001b[39m)(\u001b[39m*\u001b[39margs, \u001b[39m*\u001b[39m\u001b[39m*\u001b[39mkwargs)\n\u001b[0;32m--> <a href='file:///home/cboettig/cboettig/rl-ray-demo/venv/lib/python3.8/site-packages/ray/_private/client_mode_hook.py?line=104'>105</a>\u001b[0m \u001b[39mreturn\u001b[39;00m func(\u001b[39m*\u001b[39;49margs, \u001b[39m*\u001b[39;49m\u001b[39m*\u001b[39;49mkwargs)\n",
      "File \u001b[0;32m~/cboettig/rl-ray-demo/venv/lib/python3.8/site-packages/ray/worker.py:1733\u001b[0m, in \u001b[0;36mget\u001b[0;34m(object_refs, timeout)\u001b[0m\n\u001b[1;32m   <a href='file:///home/cboettig/cboettig/rl-ray-demo/venv/lib/python3.8/site-packages/ray/worker.py?line=1730'>1731</a>\u001b[0m     worker\u001b[39m.\u001b[39mcore_worker\u001b[39m.\u001b[39mdump_object_store_memory_usage()\n\u001b[1;32m   <a href='file:///home/cboettig/cboettig/rl-ray-demo/venv/lib/python3.8/site-packages/ray/worker.py?line=1731'>1732</a>\u001b[0m \u001b[39mif\u001b[39;00m \u001b[39misinstance\u001b[39m(value, RayTaskError):\n\u001b[0;32m-> <a href='file:///home/cboettig/cboettig/rl-ray-demo/venv/lib/python3.8/site-packages/ray/worker.py?line=1732'>1733</a>\u001b[0m     \u001b[39mraise\u001b[39;00m value\u001b[39m.\u001b[39mas_instanceof_cause()\n\u001b[1;32m   <a href='file:///home/cboettig/cboettig/rl-ray-demo/venv/lib/python3.8/site-packages/ray/worker.py?line=1733'>1734</a>\u001b[0m \u001b[39melse\u001b[39;00m:\n\u001b[1;32m   <a href='file:///home/cboettig/cboettig/rl-ray-demo/venv/lib/python3.8/site-packages/ray/worker.py?line=1734'>1735</a>\u001b[0m     \u001b[39mraise\u001b[39;00m value\n",
      "\u001b[0;31mRayTaskError(TypeError)\u001b[0m: \u001b[36mray::RolloutWorker.par_iter_next()\u001b[39m (pid=199417, ip=172.18.0.8, repr=<ray.rllib.evaluation.rollout_worker.RolloutWorker object at 0x7f078a6c49a0>)\n  File \"/home/cboettig/cboettig/rl-ray-demo/venv/lib/python3.8/site-packages/ray/util/iter.py\", line 1151, in par_iter_next\n    return next(self.local_it)\n  File \"/home/cboettig/cboettig/rl-ray-demo/venv/lib/python3.8/site-packages/ray/rllib/evaluation/rollout_worker.py\", line 382, in gen_rollouts\n    yield self.sample()\n  File \"/home/cboettig/cboettig/rl-ray-demo/venv/lib/python3.8/site-packages/ray/rllib/evaluation/rollout_worker.py\", line 761, in sample\n    batches = [self.input_reader.next()]\n  File \"/home/cboettig/cboettig/rl-ray-demo/venv/lib/python3.8/site-packages/ray/rllib/evaluation/sampler.py\", line 104, in next\n    batches = [self.get_data()]\n  File \"/home/cboettig/cboettig/rl-ray-demo/venv/lib/python3.8/site-packages/ray/rllib/evaluation/sampler.py\", line 266, in get_data\n    item = next(self._env_runner)\n  File \"/home/cboettig/cboettig/rl-ray-demo/venv/lib/python3.8/site-packages/ray/rllib/evaluation/sampler.py\", line 683, in _env_runner\n    base_env.send_actions(actions_to_send)\n  File \"/home/cboettig/cboettig/rl-ray-demo/venv/lib/python3.8/site-packages/ray/rllib/env/vector_env.py\", line 302, in send_actions\n    self.vector_env.vector_step(action_vector)\n  File \"/home/cboettig/cboettig/rl-ray-demo/venv/lib/python3.8/site-packages/ray/rllib/env/vector_env.py\", line 233, in vector_step\n    obs, r, done, info = self.envs[i].step(actions[i])\n  File \"/home/cboettig/cboettig/rl-ray-demo/venv/lib/python3.8/site-packages/gym_fishing/envs/base_fishing_env.py\", line 68, in step\n    self.population_draw()\n  File \"/home/cboettig/cboettig/rl-ray-demo/venv/lib/python3.8/site-packages/gym_fishing/envs/growth_models.py\", line 39, in population_draw\n    self.fish_population = beverton_holt(self.fish_population, self.params)\n  File \"/home/cboettig/cboettig/rl-ray-demo/venv/lib/python3.8/site-packages/gym_fishing/envs/growth_models.py\", line 222, in beverton_holt\n    A = np.clip(params[\"r\"], 0.0, np.inf) + 1\n  File \"<__array_function__ internals>\", line 180, in clip\n  File \"/home/cboettig/cboettig/rl-ray-demo/venv/lib/python3.8/site-packages/numpy/core/fromnumeric.py\", line 2152, in clip\n    return _wrapfunc(a, 'clip', a_min, a_max, out=out, **kwargs)\n  File \"/home/cboettig/cboettig/rl-ray-demo/venv/lib/python3.8/site-packages/numpy/core/fromnumeric.py\", line 54, in _wrapfunc\n    return _wrapit(obj, method, *args, **kwds)\n  File \"/home/cboettig/cboettig/rl-ray-demo/venv/lib/python3.8/site-packages/numpy/core/fromnumeric.py\", line 43, in _wrapit\n    result = getattr(asarray(obj), method)(*args, **kwds)\n  File \"/home/cboettig/cboettig/rl-ray-demo/venv/lib/python3.8/site-packages/numpy/core/_methods.py\", line 159, in _clip\n    return _clip_dep_invoke_with_casting(\n  File \"/home/cboettig/cboettig/rl-ray-demo/venv/lib/python3.8/site-packages/numpy/core/_methods.py\", line 113, in _clip_dep_invoke_with_casting\n    return ufunc(*args, out=out, **kwargs)\nTypeError: '>=' not supported between instances of 'EnvContext' and 'float'"
     ]
    },
    {
     "name": "stderr",
     "output_type": "stream",
     "text": [
      "2022-03-14 21:51:42,860\tERROR worker.py:85 -- Unhandled error (suppress with RAY_IGNORE_UNHANDLED_ERRORS=1): \u001b[36mray::RolloutWorker.par_iter_next()\u001b[39m (pid=199416, ip=172.18.0.8, repr=<ray.rllib.evaluation.rollout_worker.RolloutWorker object at 0x7f02342819a0>)\n",
      "  File \"/home/cboettig/cboettig/rl-ray-demo/venv/lib/python3.8/site-packages/ray/util/iter.py\", line 1151, in par_iter_next\n",
      "    return next(self.local_it)\n",
      "  File \"/home/cboettig/cboettig/rl-ray-demo/venv/lib/python3.8/site-packages/ray/rllib/evaluation/rollout_worker.py\", line 382, in gen_rollouts\n",
      "    yield self.sample()\n",
      "  File \"/home/cboettig/cboettig/rl-ray-demo/venv/lib/python3.8/site-packages/ray/rllib/evaluation/rollout_worker.py\", line 761, in sample\n",
      "    batches = [self.input_reader.next()]\n",
      "  File \"/home/cboettig/cboettig/rl-ray-demo/venv/lib/python3.8/site-packages/ray/rllib/evaluation/sampler.py\", line 104, in next\n",
      "    batches = [self.get_data()]\n",
      "  File \"/home/cboettig/cboettig/rl-ray-demo/venv/lib/python3.8/site-packages/ray/rllib/evaluation/sampler.py\", line 266, in get_data\n",
      "    item = next(self._env_runner)\n",
      "  File \"/home/cboettig/cboettig/rl-ray-demo/venv/lib/python3.8/site-packages/ray/rllib/evaluation/sampler.py\", line 683, in _env_runner\n",
      "    base_env.send_actions(actions_to_send)\n",
      "  File \"/home/cboettig/cboettig/rl-ray-demo/venv/lib/python3.8/site-packages/ray/rllib/env/vector_env.py\", line 302, in send_actions\n",
      "    self.vector_env.vector_step(action_vector)\n",
      "  File \"/home/cboettig/cboettig/rl-ray-demo/venv/lib/python3.8/site-packages/ray/rllib/env/vector_env.py\", line 233, in vector_step\n",
      "    obs, r, done, info = self.envs[i].step(actions[i])\n",
      "  File \"/home/cboettig/cboettig/rl-ray-demo/venv/lib/python3.8/site-packages/gym_fishing/envs/base_fishing_env.py\", line 68, in step\n",
      "    self.population_draw()\n",
      "  File \"/home/cboettig/cboettig/rl-ray-demo/venv/lib/python3.8/site-packages/gym_fishing/envs/growth_models.py\", line 39, in population_draw\n",
      "    self.fish_population = beverton_holt(self.fish_population, self.params)\n",
      "  File \"/home/cboettig/cboettig/rl-ray-demo/venv/lib/python3.8/site-packages/gym_fishing/envs/growth_models.py\", line 222, in beverton_holt\n",
      "    A = np.clip(params[\"r\"], 0.0, np.inf) + 1\n",
      "  File \"<__array_function__ internals>\", line 180, in clip\n",
      "  File \"/home/cboettig/cboettig/rl-ray-demo/venv/lib/python3.8/site-packages/numpy/core/fromnumeric.py\", line 2152, in clip\n",
      "    return _wrapfunc(a, 'clip', a_min, a_max, out=out, **kwargs)\n",
      "  File \"/home/cboettig/cboettig/rl-ray-demo/venv/lib/python3.8/site-packages/numpy/core/fromnumeric.py\", line 54, in _wrapfunc\n",
      "    return _wrapit(obj, method, *args, **kwds)\n",
      "  File \"/home/cboettig/cboettig/rl-ray-demo/venv/lib/python3.8/site-packages/numpy/core/fromnumeric.py\", line 43, in _wrapit\n",
      "    result = getattr(asarray(obj), method)(*args, **kwds)\n",
      "  File \"/home/cboettig/cboettig/rl-ray-demo/venv/lib/python3.8/site-packages/numpy/core/_methods.py\", line 159, in _clip\n",
      "    return _clip_dep_invoke_with_casting(\n",
      "  File \"/home/cboettig/cboettig/rl-ray-demo/venv/lib/python3.8/site-packages/numpy/core/_methods.py\", line 113, in _clip_dep_invoke_with_casting\n",
      "    return ufunc(*args, out=out, **kwargs)\n",
      "TypeError: '>=' not supported between instances of 'EnvContext' and 'float'\n"
     ]
    }
   ],
   "source": [
    "# Make sure env can actually train\n",
    "for _ in range(4):\n",
    "    trainer.train()"
   ]
  },
  {
   "cell_type": "code",
   "execution_count": 47,
   "metadata": {},
   "outputs": [
    {
     "name": "stderr",
     "output_type": "stream",
     "text": [
      "2022-02-22 20:03:08,139\tWARNING deprecation.py:45 -- DeprecationWarning: `simple_optimizer` has been deprecated. This will raise an error in the future!\n",
      "\u001b[2m\u001b[36m(RolloutWorker pid=1707424)\u001b[0m 2022-02-22 20:03:08,101\tWARNING deprecation.py:45 -- DeprecationWarning: `rllib.env.remote_vector_env.RemoteVectorEnv` has been deprecated. Use `ray.rllib.env.remote_base_env.RemoteBaseEnv` instead. This will raise an error in the future!\n"
     ]
    }
   ],
   "source": [
    "# Customized configure for the algorithm.\n",
    "config = {\n",
    "    \"env\": gym_fishing.envs.BevertonHolt,\n",
    "    # Use 2 environment workers (aka \"rollout workers\") that parallelly\n",
    "    # collect samples from their own environment clone(s).\n",
    "    \"num_workers\": 4,\n",
    "    \"framework\": \"torch\",\n",
    "    \"num_gpus\": torch.cuda.device_count(),\n",
    "\n",
    "    \"model\": {\n",
    "        \"fcnet_hiddens\": [64, 64],\n",
    "        \"fcnet_activation\": \"relu\",\n",
    "    },\n",
    "    \"evaluation_num_workers\": 1,\n",
    "    \"evaluation_interval\": 2,\n",
    "    # Only for evaluation runs, render the env.\n",
    "    \"evaluation_config\": {\n",
    "        \"render_env\": False,\n",
    "    }\n",
    "}\n",
    "\n",
    "# Create our RLlib Trainer.\n",
    "trainer = agents.ppo.PPOTrainer(config=config)\n",
    "\n"
   ]
  },
  {
   "cell_type": "code",
   "execution_count": 48,
   "metadata": {},
   "outputs": [
    {
     "name": "stderr",
     "output_type": "stream",
     "text": [
      "\u001b[2m\u001b[36m(RolloutWorker pid=1707425)\u001b[0m 2022-02-22 20:03:08,488\tWARNING deprecation.py:45 -- DeprecationWarning: `rllib.env.remote_vector_env.RemoteVectorEnv` has been deprecated. Use `ray.rllib.env.remote_base_env.RemoteBaseEnv` instead. This will raise an error in the future!\n",
      "\u001b[2m\u001b[36m(RolloutWorker pid=1707974)\u001b[0m 2022-02-22 20:03:13,082\tWARNING deprecation.py:45 -- DeprecationWarning: `rllib.env.remote_vector_env.RemoteVectorEnv` has been deprecated. Use `ray.rllib.env.remote_base_env.RemoteBaseEnv` instead. This will raise an error in the future!\n",
      "\u001b[2m\u001b[36m(RolloutWorker pid=1707975)\u001b[0m 2022-02-22 20:03:13,653\tWARNING deprecation.py:45 -- DeprecationWarning: `rllib.env.remote_vector_env.RemoteVectorEnv` has been deprecated. Use `ray.rllib.env.remote_base_env.RemoteBaseEnv` instead. This will raise an error in the future!\n"
     ]
    },
    {
     "name": "stdout",
     "output_type": "stream",
     "text": [
      "\u001b[2m\u001b[1m\u001b[36m(scheduler +12m27s)\u001b[0m Tip: use `ray status` to view detailed cluster status. To disable these messages, set RAY_SCHEDULER_EVENTS=0.\n",
      "\u001b[2m\u001b[1m\u001b[33m(scheduler +12m27s)\u001b[0m Warning: The following resource request cannot be scheduled right now: {'CPU': 1.0}. This is likely due to all cluster resources being claimed by actors. Consider creating fewer actors or adding more nodes to this Ray cluster.\n"
     ]
    },
    {
     "name": "stderr",
     "output_type": "stream",
     "text": [
      "2022-02-22 20:03:29,664\tWARNING worker.py:1257 -- The actor or task with ID ffffffffffffffffbb8fcfee898bcd16ce826c7201000000 cannot be scheduled right now. You can ignore this message if this Ray cluster is expected to auto-scale or if you specified a runtime_env for this actor or task, which may take time to install.  Otherwise, this is likely due to all cluster resources being claimed by actors. To resolve the issue, consider creating fewer actors or increasing the resources available to this Ray cluster.\n",
      "Required resources for this actor or task: {CPU: 1.000000}\n",
      "Available resources on this node: {0.000000/24.000000 CPU, 35.478617 GiB/35.478617 GiB memory, 1.000000/1.000000 GPU, 10.999989 GiB/10.999989 GiB object_store_memory, 1.000000/1.000000 accelerator_type:G, 1.000000/1.000000 node:172.18.0.5}\n",
      " In total there are 0 pending tasks and 1 pending actors on this node.\n",
      "\u001b[2m\u001b[36m(RolloutWorker pid=1710793)\u001b[0m 2022-02-22 20:03:35,670\tWARNING deprecation.py:45 -- DeprecationWarning: `rllib.env.remote_vector_env.RemoteVectorEnv` has been deprecated. Use `ray.rllib.env.remote_base_env.RemoteBaseEnv` instead. This will raise an error in the future!\n"
     ]
    }
   ],
   "source": [
    "for _ in range(4):\n",
    "    trainer.train()"
   ]
  },
  {
   "cell_type": "code",
   "execution_count": 49,
   "metadata": {},
   "outputs": [],
   "source": [
    "checkpoint = trainer.save()"
   ]
  },
  {
   "cell_type": "code",
   "execution_count": 50,
   "metadata": {},
   "outputs": [
    {
     "data": {
      "text/plain": [
       "{'evaluation': {'episode_reward_max': 1.1701428891871886,\n",
       "  'episode_reward_min': 0.75,\n",
       "  'episode_reward_mean': 0.8909582040576767,\n",
       "  'episode_len_mean': 3.4,\n",
       "  'episode_media': {},\n",
       "  'episodes_this_iter': 10,\n",
       "  'policy_reward_min': {},\n",
       "  'policy_reward_max': {},\n",
       "  'policy_reward_mean': {},\n",
       "  'custom_metrics': {},\n",
       "  'hist_stats': {'episode_reward': [1.1701428891871886,\n",
       "    1.0337219210797386,\n",
       "    0.8812072934789418,\n",
       "    0.9237330803724098,\n",
       "    0.75,\n",
       "    0.75,\n",
       "    0.75,\n",
       "    0.85311328125,\n",
       "    0.9728964856470526,\n",
       "    0.8247670895614376],\n",
       "   'episode_lengths': [9, 5, 3, 4, 1, 1, 1, 3, 5, 2]},\n",
       "  'sampler_perf': {'mean_raw_obs_processing_ms': 0.3457967337075766,\n",
       "   'mean_inference_ms': 1.0051046098981584,\n",
       "   'mean_action_processing_ms': 0.10796646019081016,\n",
       "   'mean_env_wait_ms': 0.09344769762707995,\n",
       "   'mean_env_render_ms': 0.0},\n",
       "  'off_policy_estimator': {},\n",
       "  'timesteps_this_iter': 0}}"
      ]
     },
     "execution_count": 50,
     "metadata": {},
     "output_type": "execute_result"
    }
   ],
   "source": [
    "trainer.evaluate()\n"
   ]
  },
  {
   "cell_type": "code",
   "execution_count": null,
   "metadata": {},
   "outputs": [],
   "source": []
  },
  {
   "cell_type": "code",
   "execution_count": 51,
   "metadata": {},
   "outputs": [
    {
     "name": "stderr",
     "output_type": "stream",
     "text": [
      "\u001b[2m\u001b[36m(RolloutWorker pid=1715786)\u001b[0m 2022-02-22 20:04:14,214\tWARNING deprecation.py:45 -- DeprecationWarning: `rllib.env.remote_vector_env.RemoteVectorEnv` has been deprecated. Use `ray.rllib.env.remote_base_env.RemoteBaseEnv` instead. This will raise an error in the future!\n",
      "2022-02-22 20:04:14,398\tWARNING deprecation.py:45 -- DeprecationWarning: `simple_optimizer` has been deprecated. This will raise an error in the future!\n",
      "\u001b[2m\u001b[36m(RolloutWorker pid=1715785)\u001b[0m 2022-02-22 20:04:14,373\tWARNING deprecation.py:45 -- DeprecationWarning: `rllib.env.remote_vector_env.RemoteVectorEnv` has been deprecated. Use `ray.rllib.env.remote_base_env.RemoteBaseEnv` instead. This will raise an error in the future!\n",
      "2022-02-22 20:04:14,510\tINFO trainable.py:472 -- Restored on 172.18.0.5 from checkpoint: /home/cboettig/ray_results/PPOTrainer_fishing-v1_2022-02-22_20-03-03ql6e0onn/checkpoint_000004/checkpoint-4\n",
      "2022-02-22 20:04:14,513\tINFO trainable.py:480 -- Current state after restoring: {'_iteration': 4, '_timesteps_total': 16000, '_time_total': 60.387168884277344, '_episodes_total': 8350}\n"
     ]
    }
   ],
   "source": [
    "model = agents.ppo.PPOTrainer(config)\n",
    "# Path will be different\n",
    "model.restore(checkpoint)\n",
    "\n",
    "## Or manually give the path\n",
    "##model.restore(\"/home/cboettig/ray_results/PPOTrainer_fishing-v1_2022-02-22_19-55-51cej434z4/checkpoint_000004/checkpoint-4\")\n"
   ]
  },
  {
   "cell_type": "code",
   "execution_count": 52,
   "metadata": {},
   "outputs": [
    {
     "name": "stderr",
     "output_type": "stream",
     "text": [
      "\u001b[2m\u001b[36m(RolloutWorker pid=1715787)\u001b[0m 2022-02-22 20:04:14,990\tWARNING deprecation.py:45 -- DeprecationWarning: `rllib.env.remote_vector_env.RemoteVectorEnv` has been deprecated. Use `ray.rllib.env.remote_base_env.RemoteBaseEnv` instead. This will raise an error in the future!\n",
      "\u001b[2m\u001b[36m(RolloutWorker pid=1715788)\u001b[0m 2022-02-22 20:04:15,689\tWARNING deprecation.py:45 -- DeprecationWarning: `rllib.env.remote_vector_env.RemoteVectorEnv` has been deprecated. Use `ray.rllib.env.remote_base_env.RemoteBaseEnv` instead. This will raise an error in the future!\n",
      "\u001b[2m\u001b[36m(RolloutWorker pid=1716463)\u001b[0m 2022-02-22 20:04:18,809\tWARNING deprecation.py:45 -- DeprecationWarning: `rllib.env.remote_vector_env.RemoteVectorEnv` has been deprecated. Use `ray.rllib.env.remote_base_env.RemoteBaseEnv` instead. This will raise an error in the future!\n"
     ]
    },
    {
     "data": {
      "text/plain": [
       "{'evaluation': {'episode_reward_max': 1.2160595664436524,\n",
       "  'episode_reward_min': 0.75,\n",
       "  'episode_reward_mean': 0.8503476138371683,\n",
       "  'episode_len_mean': 2.7,\n",
       "  'episode_media': {},\n",
       "  'episodes_this_iter': 10,\n",
       "  'policy_reward_min': {},\n",
       "  'policy_reward_max': {},\n",
       "  'policy_reward_mean': {},\n",
       "  'custom_metrics': {},\n",
       "  'hist_stats': {'episode_reward': [0.75,\n",
       "    0.80625,\n",
       "    0.8630928908613323,\n",
       "    0.75,\n",
       "    1.2160595664436524,\n",
       "    0.75,\n",
       "    0.75,\n",
       "    0.9234481767736002,\n",
       "    0.8649533402662901,\n",
       "    0.8296721640268085],\n",
       "   'episode_lengths': [1, 2, 3, 1, 8, 1, 1, 4, 3, 3]},\n",
       "  'sampler_perf': {'mean_raw_obs_processing_ms': 0.36495072501046316,\n",
       "   'mean_inference_ms': 0.9745955467224121,\n",
       "   'mean_action_processing_ms': 0.09769201278686523,\n",
       "   'mean_env_wait_ms': 0.08575405393327985,\n",
       "   'mean_env_render_ms': 0.0},\n",
       "  'off_policy_estimator': {},\n",
       "  'timesteps_this_iter': 0}}"
      ]
     },
     "execution_count": 52,
     "metadata": {},
     "output_type": "execute_result"
    }
   ],
   "source": [
    "\n",
    "# Evaluate the trained Trainer (and render each timestep to the shell's output).\n",
    "model.evaluate()\n"
   ]
  }
 ],
 "metadata": {
  "interpreter": {
   "hash": "916dbcbb3f70747c44a77c7bcd40155683ae19c65e1c03b4aa3499c5328201f1"
  },
  "kernelspec": {
   "display_name": "Python 3.8.10 64-bit",
   "language": "python",
   "name": "python3"
  },
  "language_info": {
   "codemirror_mode": {
    "name": "ipython",
    "version": 3
   },
   "file_extension": ".py",
   "mimetype": "text/x-python",
   "name": "python",
   "nbconvert_exporter": "python",
   "pygments_lexer": "ipython3",
   "version": "3.8.10"
  },
  "orig_nbformat": 4
 },
 "nbformat": 4,
 "nbformat_minor": 2
}
